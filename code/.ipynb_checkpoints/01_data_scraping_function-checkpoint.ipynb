{
 "cells": [
  {
   "cell_type": "markdown",
   "id": "concerned-amino",
   "metadata": {},
   "source": [
    "# Let's get scraping from reddit!\n",
    "\n",
    "Use the below function to print out a csv of posts from any subreddit you choose.\n"
   ]
  },
  {
   "cell_type": "code",
   "execution_count": 25,
   "id": "quantitative-singer",
   "metadata": {},
   "outputs": [],
   "source": [
    "#Let's grab some buddies\n",
    "\n",
    "import requests\n",
    "import time\n",
    "import pandas as pd\n",
    "\n"
   ]
  },
  {
   "cell_type": "code",
   "execution_count": 26,
   "id": "organizational-constitutional",
   "metadata": {},
   "outputs": [],
   "source": [
    "#set the url before running the function\n",
    "url = 'https://api.pushshift.io/reddit/search/submission'"
   ]
  },
  {
   "cell_type": "code",
   "execution_count": 27,
   "id": "exact-conversion",
   "metadata": {},
   "outputs": [],
   "source": [
    "#Created this code with the help of Derya Gumustel\n",
    "#Change before to the current time in order to get this to work on up to date data\n",
    "#Get epoch from here: https://www.epochconverter.com/\n",
    "def get_me_posts(epoch, subreddit, posts):\n",
    "    before = epoch\n",
    "    df = pd.DataFrame()\n",
    "    total_df = pd.DataFrame()\n",
    "# post_list = {}\n",
    "    for i in range(int((posts/100))):\n",
    "        params = {\n",
    "        'subreddit': subreddit,\n",
    "        'size': 100,\n",
    "        'before':before}\n",
    "        res = requests.get(url, params)\n",
    "        data = res.json()\n",
    "        posts = data['data']\n",
    "        df = pd.DataFrame(posts)\n",
    "        total_df = pd.concat([df,total_df], axis=0, ignore_index=True)\n",
    "        before = df['created_utc'].min()\n",
    "        time.sleep(60)\n",
    "    return total_df.to_csv('./data/total_'+subreddit+'.csv')"
   ]
  },
  {
   "cell_type": "code",
   "execution_count": 22,
   "id": "harmful-lighter",
   "metadata": {},
   "outputs": [],
   "source": [
    "get_me_posts(1617136979,'AskMenOver30',3000)"
   ]
  },
  {
   "cell_type": "code",
   "execution_count": 32,
   "id": "reliable-snake",
   "metadata": {},
   "outputs": [],
   "source": [
    "get_me_posts(1617136979,'TheSopranos',3000)"
   ]
  },
  {
   "cell_type": "markdown",
   "id": "lucky-proceeding",
   "metadata": {},
   "source": [
    "The below is to check that one of my csv's has worked."
   ]
  },
  {
   "cell_type": "code",
   "execution_count": 30,
   "id": "applicable-musical",
   "metadata": {},
   "outputs": [
    {
     "data": {
      "text/plain": [
       "(3000, 80)"
      ]
     },
     "execution_count": 30,
     "metadata": {},
     "output_type": "execute_result"
    }
   ],
   "source": [
    "df = pd.read_csv('./data/total_MadMen.csv')\n",
    "df.shape"
   ]
  },
  {
   "cell_type": "markdown",
   "id": "convinced-popularity",
   "metadata": {},
   "source": [
    "### Exporting My Data to CSV to Continue in my Modeling Notebook\n",
    "The below was for my first two subreddit choices, before I decided to wrap this step into the final part of the above function."
   ]
  },
  {
   "cell_type": "code",
   "execution_count": 67,
   "id": "damaged-worcester",
   "metadata": {},
   "outputs": [],
   "source": [
    "total_df_lpt.to_csv('./data/total_life_pro_tips.csv')\n",
    "total_df_slpt.to_csv('./data/total_shitty_life_pro_tips.csv')"
   ]
  }
 ],
 "metadata": {
  "kernelspec": {
   "display_name": "Python 3",
   "language": "python",
   "name": "python3"
  },
  "language_info": {
   "codemirror_mode": {
    "name": "ipython",
    "version": 3
   },
   "file_extension": ".py",
   "mimetype": "text/x-python",
   "name": "python",
   "nbconvert_exporter": "python",
   "pygments_lexer": "ipython3",
   "version": "3.8.8"
  }
 },
 "nbformat": 4,
 "nbformat_minor": 5
}
