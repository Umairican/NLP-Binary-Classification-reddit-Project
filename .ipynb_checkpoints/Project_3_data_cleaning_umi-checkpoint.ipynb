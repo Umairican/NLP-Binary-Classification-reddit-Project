{
 "cells": [
  {
   "cell_type": "markdown",
   "id": "owned-poster",
   "metadata": {},
   "source": [
    "# We are scraping from reddit!!!\n",
    "\n",
    "I feel like this is going to be a great project for me since I spend so much time lurking on reddit as it is. We have a couple things to go over:\n",
    "\n",
    "1. This is a binary classification model\n",
    "2. We pick two subreddits and try to grab about 1,000 posts from each one (but be careful of timings)\n",
    "3. We then use NLP in our modeling to create a model that predicts which post came from where.\n",
    "\n",
    "\n",
    "Possible subreddits:\n"
   ]
  },
  {
   "cell_type": "code",
   "execution_count": 39,
   "id": "awful-louis",
   "metadata": {},
   "outputs": [],
   "source": [
    "#Let's grab some buddies\n",
    "\n",
    "import requests\n",
    "import pandas as pd"
   ]
  },
  {
   "cell_type": "code",
   "execution_count": null,
   "id": "figured-creek",
   "metadata": {},
   "outputs": [],
   "source": []
  },
  {
   "cell_type": "code",
   "execution_count": 40,
   "id": "failing-malaysia",
   "metadata": {},
   "outputs": [],
   "source": [
    "#Pick a subreddit to try this out\n",
    "url = 'https://api.pushshift.io/reddit/search/submission'"
   ]
  },
  {
   "cell_type": "code",
   "execution_count": 41,
   "id": "quick-tunisia",
   "metadata": {},
   "outputs": [],
   "source": [
    "#Set size to larger to get more for your model, but not so big that you get blocked\n",
    "params_1 = {\n",
    "    'subreddit': 'shittylifeprotips'\n",
    "    \n",
    "    \n",
    "}"
   ]
  },
  {
   "cell_type": "code",
   "execution_count": 42,
   "id": "exposed-blues",
   "metadata": {},
   "outputs": [],
   "source": [
    "res = requests.get(url, params)"
   ]
  },
  {
   "cell_type": "code",
   "execution_count": 43,
   "id": "earlier-edwards",
   "metadata": {},
   "outputs": [],
   "source": [
    "data = res.json()"
   ]
  },
  {
   "cell_type": "code",
   "execution_count": 44,
   "id": "offensive-jersey",
   "metadata": {},
   "outputs": [],
   "source": [
    "posts = data['data']"
   ]
  },
  {
   "cell_type": "code",
   "execution_count": 45,
   "id": "earned-grant",
   "metadata": {},
   "outputs": [
    {
     "data": {
      "text/plain": [
       "25"
      ]
     },
     "execution_count": 45,
     "metadata": {},
     "output_type": "execute_result"
    }
   ],
   "source": [
    "len(posts)"
   ]
  },
  {
   "cell_type": "code",
   "execution_count": 46,
   "id": "dominican-strike",
   "metadata": {},
   "outputs": [
    {
     "data": {
      "text/plain": [
       "{'all_awardings': [],\n",
       " 'allow_live_comments': False,\n",
       " 'author': 'jakedata',\n",
       " 'author_flair_css_class': None,\n",
       " 'author_flair_richtext': [],\n",
       " 'author_flair_text': None,\n",
       " 'author_flair_type': 'text',\n",
       " 'author_fullname': 't2_n12e2',\n",
       " 'author_patreon_flair': False,\n",
       " 'author_premium': False,\n",
       " 'awarders': [],\n",
       " 'can_mod_post': False,\n",
       " 'contest_mode': False,\n",
       " 'created_utc': 1616001113,\n",
       " 'domain': 'self.LifeProTips',\n",
       " 'full_link': 'https://www.reddit.com/r/LifeProTips/comments/m75ajs/lpt_uselessly_old_android_tablet_can_still_be/',\n",
       " 'gildings': {},\n",
       " 'id': 'm75ajs',\n",
       " 'is_crosspostable': True,\n",
       " 'is_meta': False,\n",
       " 'is_original_content': False,\n",
       " 'is_reddit_media_domain': False,\n",
       " 'is_robot_indexable': True,\n",
       " 'is_self': True,\n",
       " 'is_video': False,\n",
       " 'link_flair_background_color': '#536dfe',\n",
       " 'link_flair_css_class': 'computers',\n",
       " 'link_flair_richtext': [],\n",
       " 'link_flair_template_id': 'e6a6d264-cbd1-11e2-a55c-12313d2c1c24',\n",
       " 'link_flair_text': 'Computers',\n",
       " 'link_flair_text_color': 'light',\n",
       " 'link_flair_type': 'text',\n",
       " 'locked': False,\n",
       " 'media_only': False,\n",
       " 'no_follow': True,\n",
       " 'num_comments': 1,\n",
       " 'num_crossposts': 0,\n",
       " 'over_18': False,\n",
       " 'parent_whitelist_status': 'all_ads',\n",
       " 'permalink': '/r/LifeProTips/comments/m75ajs/lpt_uselessly_old_android_tablet_can_still_be/',\n",
       " 'pinned': False,\n",
       " 'pwls': 6,\n",
       " 'retrieved_on': 1616001124,\n",
       " 'score': 1,\n",
       " 'selftext': 'There are apps that allow you to cast (send) a screen or app from a computer to the screen of just about any old Android device.  An unsupported old tablet can display a tab from a modern web browser on another machine as long as it is on the same network. I am using mine as a weather station.',\n",
       " 'send_replies': True,\n",
       " 'spoiler': False,\n",
       " 'stickied': False,\n",
       " 'subreddit': 'LifeProTips',\n",
       " 'subreddit_id': 't5_2s5oq',\n",
       " 'subreddit_subscribers': 19200576,\n",
       " 'subreddit_type': 'public',\n",
       " 'suggested_sort': 'confidence',\n",
       " 'thumbnail': 'self',\n",
       " 'title': 'LPT: Uselessly old Android tablet can still be used as a second screen for Chromecast',\n",
       " 'total_awards_received': 0,\n",
       " 'treatment_tags': [],\n",
       " 'upvote_ratio': 1.0,\n",
       " 'url': 'https://www.reddit.com/r/LifeProTips/comments/m75ajs/lpt_uselessly_old_android_tablet_can_still_be/',\n",
       " 'whitelist_status': 'all_ads',\n",
       " 'wls': 6}"
      ]
     },
     "execution_count": 46,
     "metadata": {},
     "output_type": "execute_result"
    }
   ],
   "source": [
    "posts[0]"
   ]
  },
  {
   "cell_type": "code",
   "execution_count": 37,
   "id": "retired-receptor",
   "metadata": {},
   "outputs": [],
   "source": [
    "df = pd.DataFrame(posts)"
   ]
  },
  {
   "cell_type": "code",
   "execution_count": 38,
   "id": "fancy-nicaragua",
   "metadata": {},
   "outputs": [
    {
     "data": {
      "text/html": [
       "<div>\n",
       "<style scoped>\n",
       "    .dataframe tbody tr th:only-of-type {\n",
       "        vertical-align: middle;\n",
       "    }\n",
       "\n",
       "    .dataframe tbody tr th {\n",
       "        vertical-align: top;\n",
       "    }\n",
       "\n",
       "    .dataframe thead th {\n",
       "        text-align: right;\n",
       "    }\n",
       "</style>\n",
       "<table border=\"1\" class=\"dataframe\">\n",
       "  <thead>\n",
       "    <tr style=\"text-align: right;\">\n",
       "      <th></th>\n",
       "      <th>subreddit</th>\n",
       "      <th>selftext</th>\n",
       "      <th>title</th>\n",
       "    </tr>\n",
       "  </thead>\n",
       "  <tbody>\n",
       "    <tr>\n",
       "      <th>0</th>\n",
       "      <td>LifeProTips</td>\n",
       "      <td>There are apps that allow you to cast (send) a...</td>\n",
       "      <td>LPT: Uselessly old Android tablet can still be...</td>\n",
       "    </tr>\n",
       "    <tr>\n",
       "      <th>1</th>\n",
       "      <td>LifeProTips</td>\n",
       "      <td>[removed]</td>\n",
       "      <td>LPT I don't know what to do with my life.</td>\n",
       "    </tr>\n",
       "    <tr>\n",
       "      <th>2</th>\n",
       "      <td>LifeProTips</td>\n",
       "      <td>[removed]</td>\n",
       "      <td>I don't know what to do with my life</td>\n",
       "    </tr>\n",
       "    <tr>\n",
       "      <th>3</th>\n",
       "      <td>LifeProTips</td>\n",
       "      <td>[Like these, available in many department stor...</td>\n",
       "      <td>LPT: If you lose your post-braces retainer and...</td>\n",
       "    </tr>\n",
       "    <tr>\n",
       "      <th>4</th>\n",
       "      <td>LifeProTips</td>\n",
       "      <td>I live in the south where we’re about to get h...</td>\n",
       "      <td>LPT Include your pets in your severe weather p...</td>\n",
       "    </tr>\n",
       "  </tbody>\n",
       "</table>\n",
       "</div>"
      ],
      "text/plain": [
       "     subreddit                                           selftext  \\\n",
       "0  LifeProTips  There are apps that allow you to cast (send) a...   \n",
       "1  LifeProTips                                          [removed]   \n",
       "2  LifeProTips                                          [removed]   \n",
       "3  LifeProTips  [Like these, available in many department stor...   \n",
       "4  LifeProTips  I live in the south where we’re about to get h...   \n",
       "\n",
       "                                               title  \n",
       "0  LPT: Uselessly old Android tablet can still be...  \n",
       "1          LPT I don't know what to do with my life.  \n",
       "2               I don't know what to do with my life  \n",
       "3  LPT: If you lose your post-braces retainer and...  \n",
       "4  LPT Include your pets in your severe weather p...  "
      ]
     },
     "execution_count": 38,
     "metadata": {},
     "output_type": "execute_result"
    }
   ],
   "source": [
    "df[['subreddit', 'selftext', 'title']].head()"
   ]
  }
 ],
 "metadata": {
  "kernelspec": {
   "display_name": "Python 3",
   "language": "python",
   "name": "python3"
  },
  "language_info": {
   "codemirror_mode": {
    "name": "ipython",
    "version": 3
   },
   "file_extension": ".py",
   "mimetype": "text/x-python",
   "name": "python",
   "nbconvert_exporter": "python",
   "pygments_lexer": "ipython3",
   "version": "3.8.8"
  }
 },
 "nbformat": 4,
 "nbformat_minor": 5
}
