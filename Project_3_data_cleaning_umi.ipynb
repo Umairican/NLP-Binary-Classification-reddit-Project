{
 "cells": [
  {
   "cell_type": "markdown",
   "id": "olympic-eagle",
   "metadata": {},
   "source": [
    "# We are scraping from reddit!!!\n",
    "\n",
    "I feel like this is going to be a great project for me since I spend so much time lurking on reddit as it is. We have a couple things to go over:\n",
    "\n",
    "1. This is a binary classification model\n",
    "2. We pick two subreddits and try to grab about 1,000 posts from each one (but be careful of timings)\n",
    "3. We then use NLP in our modeling to create a model that predicts which post came from where.\n",
    "\n",
    "\n",
    "Possible subreddits:\n"
   ]
  },
  {
   "cell_type": "code",
   "execution_count": 45,
   "id": "violent-stage",
   "metadata": {},
   "outputs": [],
   "source": [
    "#Let's grab some buddies\n",
    "\n",
    "import requests\n",
    "import pandas as pd"
   ]
  },
  {
   "cell_type": "code",
   "execution_count": null,
   "id": "domestic-labor",
   "metadata": {},
   "outputs": [],
   "source": []
  },
  {
   "cell_type": "code",
   "execution_count": 46,
   "id": "catholic-husband",
   "metadata": {},
   "outputs": [],
   "source": [
    "#Pick a subreddit to try this out\n",
    "url = 'https://api.pushshift.io/reddit/search/submission'"
   ]
  },
  {
   "cell_type": "code",
   "execution_count": 60,
   "id": "hungry-mother",
   "metadata": {},
   "outputs": [],
   "source": [
    "#Set size to larger to get more for your model, but not so big that you get blocked\n",
    "params_lpt = {\n",
    "    'subreddit': 'lifeprotips',\n",
    "    'size': 100\n",
    "    \n",
    "}"
   ]
  },
  {
   "cell_type": "code",
   "execution_count": 61,
   "id": "level-sense",
   "metadata": {},
   "outputs": [],
   "source": [
    "params_slpt = {\n",
    "    'subreddit': 'shittylifeprotips',\n",
    "    'size': 100\n",
    "    \n",
    "}"
   ]
  },
  {
   "cell_type": "code",
   "execution_count": 62,
   "id": "metric-search",
   "metadata": {},
   "outputs": [],
   "source": [
    "res_lpt = requests.get(url, params_lpt)\n",
    "res_slpt = requests.get(url, params_slpt)"
   ]
  },
  {
   "cell_type": "code",
   "execution_count": 63,
   "id": "blessed-spell",
   "metadata": {},
   "outputs": [],
   "source": [
    "data_lpt = res_lpt.json()\n",
    "data_slpt = res_slpt.json()"
   ]
  },
  {
   "cell_type": "code",
   "execution_count": 64,
   "id": "mobile-generation",
   "metadata": {},
   "outputs": [],
   "source": [
    "posts_lpt = data_lpt['data']\n",
    "posts_slpt = data_slpt['data']"
   ]
  },
  {
   "cell_type": "code",
   "execution_count": 66,
   "id": "mobile-graduate",
   "metadata": {},
   "outputs": [
    {
     "name": "stdout",
     "output_type": "stream",
     "text": [
      "You have 100 Life Pro Tips!\n",
      "You have 100 Shitty Life Pro Tips!\n"
     ]
    }
   ],
   "source": [
    "print(f'You have {len(posts_lpt)} Life Pro Tips!')\n",
    "print(f'You have {len(posts_lpt)} Shitty Life Pro Tips!')"
   ]
  },
  {
   "cell_type": "code",
   "execution_count": 67,
   "id": "frequent-title",
   "metadata": {
    "scrolled": true
   },
   "outputs": [
    {
     "data": {
      "text/plain": [
       "{'all_awardings': [],\n",
       " 'allow_live_comments': False,\n",
       " 'author': 'forhead123',\n",
       " 'author_flair_css_class': None,\n",
       " 'author_flair_richtext': [],\n",
       " 'author_flair_text': None,\n",
       " 'author_flair_type': 'text',\n",
       " 'author_fullname': 't2_dlpot9x',\n",
       " 'author_patreon_flair': False,\n",
       " 'author_premium': False,\n",
       " 'awarders': [],\n",
       " 'can_mod_post': False,\n",
       " 'contest_mode': False,\n",
       " 'created_utc': 1616954006,\n",
       " 'domain': 'self.LifeProTips',\n",
       " 'full_link': 'https://www.reddit.com/r/LifeProTips/comments/mf5zbp/lpt_if_youre_in_a_room_with_family_or_people_that/',\n",
       " 'gildings': {},\n",
       " 'id': 'mf5zbp',\n",
       " 'is_crosspostable': True,\n",
       " 'is_meta': False,\n",
       " 'is_original_content': False,\n",
       " 'is_reddit_media_domain': False,\n",
       " 'is_robot_indexable': True,\n",
       " 'is_self': True,\n",
       " 'is_video': False,\n",
       " 'link_flair_background_color': '',\n",
       " 'link_flair_richtext': [],\n",
       " 'link_flair_text_color': 'dark',\n",
       " 'link_flair_type': 'text',\n",
       " 'locked': False,\n",
       " 'media_only': False,\n",
       " 'no_follow': True,\n",
       " 'num_comments': 6,\n",
       " 'num_crossposts': 0,\n",
       " 'over_18': False,\n",
       " 'parent_whitelist_status': 'all_ads',\n",
       " 'permalink': '/r/LifeProTips/comments/mf5zbp/lpt_if_youre_in_a_room_with_family_or_people_that/',\n",
       " 'pinned': False,\n",
       " 'pwls': 6,\n",
       " 'retrieved_on': 1616954016,\n",
       " 'score': 1,\n",
       " 'selftext': '',\n",
       " 'send_replies': True,\n",
       " 'spoiler': False,\n",
       " 'stickied': False,\n",
       " 'subreddit': 'LifeProTips',\n",
       " 'subreddit_id': 't5_2s5oq',\n",
       " 'subreddit_subscribers': 19242193,\n",
       " 'subreddit_type': 'public',\n",
       " 'suggested_sort': 'confidence',\n",
       " 'thumbnail': 'self',\n",
       " 'title': 'LPT: If you\\'re in a room with family or people that you don\\'t want to integrate with and you\\'re looking for an excuse to leave, go onto your phone settings, ringtone options and tap one of the ringtones that it lists. Boom you suddenly have a \"phone call\" that you need to take.',\n",
       " 'total_awards_received': 0,\n",
       " 'treatment_tags': [],\n",
       " 'upvote_ratio': 1.0,\n",
       " 'url': 'https://www.reddit.com/r/LifeProTips/comments/mf5zbp/lpt_if_youre_in_a_room_with_family_or_people_that/',\n",
       " 'whitelist_status': 'all_ads',\n",
       " 'wls': 6}"
      ]
     },
     "execution_count": 67,
     "metadata": {},
     "output_type": "execute_result"
    }
   ],
   "source": [
    "posts_lpt[0]"
   ]
  },
  {
   "cell_type": "code",
   "execution_count": 68,
   "id": "valuable-profession",
   "metadata": {
    "scrolled": true
   },
   "outputs": [
    {
     "data": {
      "text/plain": [
       "{'all_awardings': [],\n",
       " 'allow_live_comments': False,\n",
       " 'author': 'JonesLanding',\n",
       " 'author_flair_css_class': None,\n",
       " 'author_flair_richtext': [],\n",
       " 'author_flair_text': None,\n",
       " 'author_flair_type': 'text',\n",
       " 'author_fullname': 't2_kmr6b',\n",
       " 'author_patreon_flair': False,\n",
       " 'author_premium': False,\n",
       " 'awarders': [],\n",
       " 'can_mod_post': False,\n",
       " 'contest_mode': False,\n",
       " 'created_utc': 1616951837,\n",
       " 'domain': 'self.ShittyLifeProTips',\n",
       " 'full_link': 'https://www.reddit.com/r/ShittyLifeProTips/comments/mf580z/slpt_chain_smoke_cigarettes_everyday_to_find_out/',\n",
       " 'gildings': {},\n",
       " 'id': 'mf580z',\n",
       " 'is_crosspostable': True,\n",
       " 'is_meta': False,\n",
       " 'is_original_content': False,\n",
       " 'is_reddit_media_domain': False,\n",
       " 'is_robot_indexable': True,\n",
       " 'is_self': True,\n",
       " 'is_video': False,\n",
       " 'link_flair_background_color': '',\n",
       " 'link_flair_richtext': [],\n",
       " 'link_flair_text_color': 'dark',\n",
       " 'link_flair_type': 'text',\n",
       " 'locked': False,\n",
       " 'media_only': False,\n",
       " 'no_follow': False,\n",
       " 'num_comments': 1,\n",
       " 'num_crossposts': 0,\n",
       " 'over_18': False,\n",
       " 'parent_whitelist_status': 'some_ads',\n",
       " 'permalink': '/r/ShittyLifeProTips/comments/mf580z/slpt_chain_smoke_cigarettes_everyday_to_find_out/',\n",
       " 'pinned': False,\n",
       " 'pwls': 7,\n",
       " 'retrieved_on': 1616951847,\n",
       " 'score': 1,\n",
       " 'selftext': '',\n",
       " 'send_replies': True,\n",
       " 'spoiler': False,\n",
       " 'stickied': False,\n",
       " 'subreddit': 'ShittyLifeProTips',\n",
       " 'subreddit_id': 't5_2tgym',\n",
       " 'subreddit_subscribers': 1407455,\n",
       " 'subreddit_type': 'public',\n",
       " 'thumbnail': 'self',\n",
       " 'title': 'SLPT: Chain smoke cigarettes everyday to find out if lung cancer runs in your family',\n",
       " 'total_awards_received': 0,\n",
       " 'treatment_tags': [],\n",
       " 'upvote_ratio': 1.0,\n",
       " 'url': 'https://www.reddit.com/r/ShittyLifeProTips/comments/mf580z/slpt_chain_smoke_cigarettes_everyday_to_find_out/',\n",
       " 'whitelist_status': 'some_ads',\n",
       " 'wls': 7}"
      ]
     },
     "execution_count": 68,
     "metadata": {},
     "output_type": "execute_result"
    }
   ],
   "source": [
    "posts_slpt[0]"
   ]
  },
  {
   "cell_type": "code",
   "execution_count": 69,
   "id": "fallen-consideration",
   "metadata": {},
   "outputs": [],
   "source": [
    "df_lpt = pd.DataFrame(posts_lpt)"
   ]
  },
  {
   "cell_type": "code",
   "execution_count": 71,
   "id": "front-seven",
   "metadata": {},
   "outputs": [
    {
     "data": {
      "text/html": [
       "<div>\n",
       "<style scoped>\n",
       "    .dataframe tbody tr th:only-of-type {\n",
       "        vertical-align: middle;\n",
       "    }\n",
       "\n",
       "    .dataframe tbody tr th {\n",
       "        vertical-align: top;\n",
       "    }\n",
       "\n",
       "    .dataframe thead th {\n",
       "        text-align: right;\n",
       "    }\n",
       "</style>\n",
       "<table border=\"1\" class=\"dataframe\">\n",
       "  <thead>\n",
       "    <tr style=\"text-align: right;\">\n",
       "      <th></th>\n",
       "      <th>subreddit</th>\n",
       "      <th>selftext</th>\n",
       "      <th>title</th>\n",
       "    </tr>\n",
       "  </thead>\n",
       "  <tbody>\n",
       "    <tr>\n",
       "      <th>0</th>\n",
       "      <td>LifeProTips</td>\n",
       "      <td></td>\n",
       "      <td>LPT: If you're in a room with family or people...</td>\n",
       "    </tr>\n",
       "    <tr>\n",
       "      <th>1</th>\n",
       "      <td>LifeProTips</td>\n",
       "      <td>Here is the video that shows how to do the kno...</td>\n",
       "      <td>LPT use a fisherman's knot in the bed of your ...</td>\n",
       "    </tr>\n",
       "    <tr>\n",
       "      <th>2</th>\n",
       "      <td>LifeProTips</td>\n",
       "      <td>Most \"tips\" are specific to the group of peopl...</td>\n",
       "      <td>LPT: Don't implement \"tips\", implement princip...</td>\n",
       "    </tr>\n",
       "    <tr>\n",
       "      <th>3</th>\n",
       "      <td>LifeProTips</td>\n",
       "      <td>You can download every post, photo and other i...</td>\n",
       "      <td>LPT: If you decide to deactivate your Facebook...</td>\n",
       "    </tr>\n",
       "    <tr>\n",
       "      <th>4</th>\n",
       "      <td>LifeProTips</td>\n",
       "      <td></td>\n",
       "      <td>LPT: Don't install FaceTune to \"see what it do...</td>\n",
       "    </tr>\n",
       "  </tbody>\n",
       "</table>\n",
       "</div>"
      ],
      "text/plain": [
       "     subreddit                                           selftext  \\\n",
       "0  LifeProTips                                                      \n",
       "1  LifeProTips  Here is the video that shows how to do the kno...   \n",
       "2  LifeProTips  Most \"tips\" are specific to the group of peopl...   \n",
       "3  LifeProTips  You can download every post, photo and other i...   \n",
       "4  LifeProTips                                                      \n",
       "\n",
       "                                               title  \n",
       "0  LPT: If you're in a room with family or people...  \n",
       "1  LPT use a fisherman's knot in the bed of your ...  \n",
       "2  LPT: Don't implement \"tips\", implement princip...  \n",
       "3  LPT: If you decide to deactivate your Facebook...  \n",
       "4  LPT: Don't install FaceTune to \"see what it do...  "
      ]
     },
     "execution_count": 71,
     "metadata": {},
     "output_type": "execute_result"
    }
   ],
   "source": [
    "df_lpt[['subreddit', 'selftext', 'title']].head()"
   ]
  },
  {
   "cell_type": "code",
   "execution_count": 72,
   "id": "forbidden-murder",
   "metadata": {},
   "outputs": [],
   "source": [
    "df_slpt = pd.DataFrame(posts_slpt)"
   ]
  },
  {
   "cell_type": "code",
   "execution_count": 73,
   "id": "original-passenger",
   "metadata": {},
   "outputs": [
    {
     "data": {
      "text/html": [
       "<div>\n",
       "<style scoped>\n",
       "    .dataframe tbody tr th:only-of-type {\n",
       "        vertical-align: middle;\n",
       "    }\n",
       "\n",
       "    .dataframe tbody tr th {\n",
       "        vertical-align: top;\n",
       "    }\n",
       "\n",
       "    .dataframe thead th {\n",
       "        text-align: right;\n",
       "    }\n",
       "</style>\n",
       "<table border=\"1\" class=\"dataframe\">\n",
       "  <thead>\n",
       "    <tr style=\"text-align: right;\">\n",
       "      <th></th>\n",
       "      <th>subreddit</th>\n",
       "      <th>selftext</th>\n",
       "      <th>title</th>\n",
       "    </tr>\n",
       "  </thead>\n",
       "  <tbody>\n",
       "    <tr>\n",
       "      <th>0</th>\n",
       "      <td>ShittyLifeProTips</td>\n",
       "      <td></td>\n",
       "      <td>SLPT: Chain smoke cigarettes everyday to find ...</td>\n",
       "    </tr>\n",
       "    <tr>\n",
       "      <th>1</th>\n",
       "      <td>ShittyLifeProTips</td>\n",
       "      <td></td>\n",
       "      <td>SLPT: The only way to receive public appreciat...</td>\n",
       "    </tr>\n",
       "    <tr>\n",
       "      <th>2</th>\n",
       "      <td>ShittyLifeProTips</td>\n",
       "      <td>When ordering breakfast at a restaurant, if th...</td>\n",
       "      <td>SLPT</td>\n",
       "    </tr>\n",
       "    <tr>\n",
       "      <th>3</th>\n",
       "      <td>ShittyLifeProTips</td>\n",
       "      <td>[removed]</td>\n",
       "      <td>Free Chicken</td>\n",
       "    </tr>\n",
       "    <tr>\n",
       "      <th>4</th>\n",
       "      <td>ShittyLifeProTips</td>\n",
       "      <td></td>\n",
       "      <td>SLPT: If you're too embarrassed to by a dildo ...</td>\n",
       "    </tr>\n",
       "  </tbody>\n",
       "</table>\n",
       "</div>"
      ],
      "text/plain": [
       "           subreddit                                           selftext  \\\n",
       "0  ShittyLifeProTips                                                      \n",
       "1  ShittyLifeProTips                                                      \n",
       "2  ShittyLifeProTips  When ordering breakfast at a restaurant, if th...   \n",
       "3  ShittyLifeProTips                                          [removed]   \n",
       "4  ShittyLifeProTips                                                      \n",
       "\n",
       "                                               title  \n",
       "0  SLPT: Chain smoke cigarettes everyday to find ...  \n",
       "1  SLPT: The only way to receive public appreciat...  \n",
       "2                                               SLPT  \n",
       "3                                       Free Chicken  \n",
       "4  SLPT: If you're too embarrassed to by a dildo ...  "
      ]
     },
     "execution_count": 73,
     "metadata": {},
     "output_type": "execute_result"
    }
   ],
   "source": [
    "df_slpt[['subreddit', 'selftext', 'title']].head()"
   ]
  }
 ],
 "metadata": {
  "kernelspec": {
   "display_name": "Python 3",
   "language": "python",
   "name": "python3"
  },
  "language_info": {
   "codemirror_mode": {
    "name": "ipython",
    "version": 3
   },
   "file_extension": ".py",
   "mimetype": "text/x-python",
   "name": "python",
   "nbconvert_exporter": "python",
   "pygments_lexer": "ipython3",
   "version": "3.8.8"
  }
 },
 "nbformat": 4,
 "nbformat_minor": 5
}
